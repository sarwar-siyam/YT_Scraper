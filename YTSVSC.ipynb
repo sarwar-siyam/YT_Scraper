{
 "cells": [
  {
   "cell_type": "code",
   "execution_count": 1,
   "metadata": {},
   "outputs": [],
   "source": [
    "# Scrapen meiner Suchverlaufdaten\n",
    "\n",
    "from bs4 import BeautifulSoup\n",
    "import pandas as pd\n",
    "import requests\n",
    "pd.set_option('display.max_rows', 200)"
   ]
  },
  {
   "cell_type": "code",
   "execution_count": null,
   "metadata": {},
   "outputs": [],
   "source": [
    "with open('/Users/siyamaghbar/Data_Analytics/Python_Projecte/my_youtube_Takeout/Verlauf/Suchverlauf.html', 'r') as f:\n",
    "    soup = BeautifulSoup(f,'html.parser')"
   ]
  },
  {
   "cell_type": "code",
   "execution_count": null,
   "metadata": {},
   "outputs": [],
   "source": [
    "# Alle vereinzelten Bereiche in den sich unsere Infos beinhalten\n",
    "all_div_tags = soup.find_all(\"div\", class_= \"content-cell mdl-cell mdl-cell--6-col mdl-typography--body-1\")\n",
    "all_div_tags\n"
   ]
  },
  {
   "cell_type": "code",
   "execution_count": null,
   "metadata": {},
   "outputs": [],
   "source": [
    "#Zuteilung der gefilterten Daten in Listen -> für bessere umwanflung in Tabelen \n",
    "urls = []\n",
    "names = []\n",
    "for element in all_div_tags:\n",
    "    url = element.find(\"a\")\n",
    "    link = url.get(\"href\")\n",
    "    urls.append(link)\n",
    "    name = url.text\n",
    "    names.append(name)\n",
    "    "
   ]
  },
  {
   "cell_type": "code",
   "execution_count": null,
   "metadata": {},
   "outputs": [],
   "source": [
    "names\n",
    "texte = []\n",
    "for element in all_div_tags:\n",
    "    text = element.get_text(separator=\"\\n\")\n",
    "    texte.append(text)\n",
    "print(len(texte))"
   ]
  },
  {
   "cell_type": "code",
   "execution_count": null,
   "metadata": {},
   "outputs": [],
   "source": [
    "status = []\n",
    "for i in texte: \n",
    "    if \"angesehen\" in i:\n",
    "        status.append(\"angeshen\")\n",
    "    elif \"Gesucht\" in i:\n",
    "        status.append(\"gesucth\")\n",
    "    else:\n",
    "        status.append(\"Auf Homepage weiter geleitet\")\n"
   ]
  },
  {
   "cell_type": "code",
   "execution_count": null,
   "metadata": {},
   "outputs": [],
   "source": [
    "# Filtern der Uhrzeit und das Datum duch Slicing\n",
    "dates = []\n",
    "for element in texte:\n",
    "    datum = element[-25:]\n",
    "    dates.append(datum)\n",
    "dates"
   ]
  },
  {
   "cell_type": "code",
   "execution_count": null,
   "metadata": {},
   "outputs": [],
   "source": [
    "\n",
    "#Erstellung der data \n",
    "data ={\n",
    "    \"Link\":urls,\n",
    "    \"Name\":names,\n",
    "    \"Date\":dates,\n",
    "    \"Status\" : status\n",
    "}"
   ]
  },
  {
   "cell_type": "code",
   "execution_count": null,
   "metadata": {},
   "outputs": [],
   "source": [
    "#Umwandlung in dataframe \n",
    "df = pd.DataFrame(data)\n",
    "df\n",
    "\n"
   ]
  },
  {
   "cell_type": "code",
   "execution_count": null,
   "metadata": {},
   "outputs": [],
   "source": [
    "# Begutachtung der Raw-Daten und Bereinigung \n",
    "spit_date = df[\"Date\"].str.split(\",\",expand=True)\n",
    "spit_date\n",
    "df[\"Datum\"] = spit_date[0] \n",
    "df[\"Time\"] = spit_date[1]\n",
    "\n"
   ]
  },
  {
   "cell_type": "code",
   "execution_count": null,
   "metadata": {},
   "outputs": [],
   "source": [
    "df = df.drop(columns=[\"Date\"],axis=1)"
   ]
  },
  {
   "cell_type": "code",
   "execution_count": null,
   "metadata": {},
   "outputs": [],
   "source": [
    "\n",
    "df[\"Link\"].sample(50)\n",
    "for i in df[\"Link\"]:\n",
    "    a=i.split(\"//\")\n",
    "    print(a)"
   ]
  },
  {
   "cell_type": "code",
   "execution_count": null,
   "metadata": {},
   "outputs": [],
   "source": [
    "df[\"Link\"]"
   ]
  },
  {
   "cell_type": "code",
   "execution_count": null,
   "metadata": {},
   "outputs": [],
   "source": [
    "# Neue Spalten meinem Dataframe hinzugefügt zur einteilung der URL \n",
    "    # domain \n",
    "    # pfad /watch\n",
    "  \n",
    "\n",
    "pfad = None\n",
    "domain = None\n",
    "\n",
    "df[\"Pfad\"] = pfad\n",
    "df[\"Domain\"] = domain\n",
    "\n",
    "\n"
   ]
  },
  {
   "cell_type": "code",
   "execution_count": null,
   "metadata": {},
   "outputs": [],
   "source": [
    "split_url = df[\"Link\"].str.split(\"/\", expand=True)\n",
    "df[\"Domain\"] = split_url[2]\n",
    "df[\"Pfad\"] = split_url[3] \n"
   ]
  },
  {
   "cell_type": "code",
   "execution_count": null,
   "metadata": {},
   "outputs": [],
   "source": [
    "df = df.drop(columns=[\"Parameter\"])"
   ]
  },
  {
   "cell_type": "code",
   "execution_count": null,
   "metadata": {},
   "outputs": [],
   "source": [
    "df = df.drop(columns=[\"Status_Aufgerufen\"])\n",
    "#result ist wonach ich gesucht habe \n",
    "#watch ist angesehene werbung \n",
    "\n",
    "#wenn name des linkes in Sucherverlauf  und names des linkes in wiedergabe verlauf gleich sind => das ich nach nach diesem video gesucht habe und es abgespielt habe \n",
    "\n",
    "\n",
    "\n",
    "        "
   ]
  },
  {
   "cell_type": "code",
   "execution_count": null,
   "metadata": {},
   "outputs": [],
   "source": [
    "test = df[[\"Status\", \"Pfad\",]]\n",
    "test.sample(200)\n"
   ]
  },
  {
   "cell_type": "code",
   "execution_count": null,
   "metadata": {},
   "outputs": [],
   "source": [
    "df[\"Status\"].value_counts()"
   ]
  },
  {
   "cell_type": "code",
   "execution_count": 21,
   "metadata": {},
   "outputs": [
    {
     "data": {
      "text/html": [
       "<div>\n",
       "<style scoped>\n",
       "    .dataframe tbody tr th:only-of-type {\n",
       "        vertical-align: middle;\n",
       "    }\n",
       "\n",
       "    .dataframe tbody tr th {\n",
       "        vertical-align: top;\n",
       "    }\n",
       "\n",
       "    .dataframe thead th {\n",
       "        text-align: right;\n",
       "    }\n",
       "</style>\n",
       "<table border=\"1\" class=\"dataframe\">\n",
       "  <thead>\n",
       "    <tr style=\"text-align: right;\">\n",
       "      <th></th>\n",
       "      <th>Link</th>\n",
       "      <th>Name</th>\n",
       "      <th>Status</th>\n",
       "      <th>Datum</th>\n",
       "      <th>Time</th>\n",
       "      <th>Pfad</th>\n",
       "      <th>Domain</th>\n",
       "    </tr>\n",
       "  </thead>\n",
       "  <tbody>\n",
       "    <tr>\n",
       "      <th>0</th>\n",
       "      <td>https://www.youtube.com/watch?v=iXLqYNBExIQ</td>\n",
       "      <td>Die europäische Alternative zu monday, Asana &amp;...</td>\n",
       "      <td>angeshen</td>\n",
       "      <td>09.04.2024</td>\n",
       "      <td>12:07:41 MESZ</td>\n",
       "      <td>watch?v=iXLqYNBExIQ</td>\n",
       "      <td>www.youtube.com</td>\n",
       "    </tr>\n",
       "    <tr>\n",
       "      <th>1</th>\n",
       "      <td>https://www.youtube.com/watch?v=MMsG0sJrgAo</td>\n",
       "      <td>Deutschlands einziger Agentur-Inkubator, um de...</td>\n",
       "      <td>angeshen</td>\n",
       "      <td>09.04.2024</td>\n",
       "      <td>11:44:08 MESZ</td>\n",
       "      <td>watch?v=MMsG0sJrgAo</td>\n",
       "      <td>www.youtube.com</td>\n",
       "    </tr>\n",
       "    <tr>\n",
       "      <th>2</th>\n",
       "      <td>https://www.youtube.com/watch?v=AaRnx6EbfHU</td>\n",
       "      <td>Vertical: Schwerelose Operationsmiskroskope - ...</td>\n",
       "      <td>angeshen</td>\n",
       "      <td>09.04.2024</td>\n",
       "      <td>11:03:30 MESZ</td>\n",
       "      <td>watch?v=AaRnx6EbfHU</td>\n",
       "      <td>www.youtube.com</td>\n",
       "    </tr>\n",
       "    <tr>\n",
       "      <th>3</th>\n",
       "      <td>https://www.youtube.com/watch?v=L71Hq8oYcBA</td>\n",
       "      <td>STRATO - das ist doch MEHR wert!</td>\n",
       "      <td>angeshen</td>\n",
       "      <td>09.04.2024</td>\n",
       "      <td>10:54:14 MESZ</td>\n",
       "      <td>watch?v=L71Hq8oYcBA</td>\n",
       "      <td>www.youtube.com</td>\n",
       "    </tr>\n",
       "    <tr>\n",
       "      <th>4</th>\n",
       "      <td>https://www.youtube.com/watch?v=xctb9ur955k</td>\n",
       "      <td>Pathfinders Lany - DE</td>\n",
       "      <td>angeshen</td>\n",
       "      <td>09.04.2024</td>\n",
       "      <td>10:53:53 MESZ</td>\n",
       "      <td>watch?v=xctb9ur955k</td>\n",
       "      <td>www.youtube.com</td>\n",
       "    </tr>\n",
       "    <tr>\n",
       "      <th>...</th>\n",
       "      <td>...</td>\n",
       "      <td>...</td>\n",
       "      <td>...</td>\n",
       "      <td>...</td>\n",
       "      <td>...</td>\n",
       "      <td>...</td>\n",
       "      <td>...</td>\n",
       "    </tr>\n",
       "    <tr>\n",
       "      <th>20902</th>\n",
       "      <td>https://www.google.com/url?q=http://clickserve...</td>\n",
       "      <td>http://clickserve.dartsearch.net/link/click?li...</td>\n",
       "      <td>Auf Homepage weiter geleitet</td>\n",
       "      <td>23.07.2020</td>\n",
       "      <td>20:37:45 MESZ</td>\n",
       "      <td>url?q=http:</td>\n",
       "      <td>www.google.com</td>\n",
       "    </tr>\n",
       "    <tr>\n",
       "      <th>20903</th>\n",
       "      <td>https://www.google.com/url?q=https://www.deuts...</td>\n",
       "      <td>https://www.deutsche-familienversicherung.de/z...</td>\n",
       "      <td>Auf Homepage weiter geleitet</td>\n",
       "      <td>30.05.2020</td>\n",
       "      <td>21:20:35 MESZ</td>\n",
       "      <td>url?q=https:</td>\n",
       "      <td>www.google.com</td>\n",
       "    </tr>\n",
       "    <tr>\n",
       "      <th>20904</th>\n",
       "      <td>https://www.google.com/url?q=market://details%...</td>\n",
       "      <td>market://details?id=com.sweetfuirt.candy</td>\n",
       "      <td>Auf Homepage weiter geleitet</td>\n",
       "      <td>25.04.2020</td>\n",
       "      <td>18:06:26 MESZ</td>\n",
       "      <td>url?q=market:</td>\n",
       "      <td>www.google.com</td>\n",
       "    </tr>\n",
       "    <tr>\n",
       "      <th>20905</th>\n",
       "      <td>https://www.google.com/url?q=market://details%...</td>\n",
       "      <td>market://details?id=com.audible.application</td>\n",
       "      <td>Auf Homepage weiter geleitet</td>\n",
       "      <td>24.04.2020</td>\n",
       "      <td>17:33:36 MESZ</td>\n",
       "      <td>url?q=market:</td>\n",
       "      <td>www.google.com</td>\n",
       "    </tr>\n",
       "    <tr>\n",
       "      <th>20906</th>\n",
       "      <td>https://www.google.com/url?q=market://details%...</td>\n",
       "      <td>market://details?id=com.joynow.strategy.ww2</td>\n",
       "      <td>Auf Homepage weiter geleitet</td>\n",
       "      <td>15.04.2020</td>\n",
       "      <td>20:51:23 MESZ</td>\n",
       "      <td>url?q=market:</td>\n",
       "      <td>www.google.com</td>\n",
       "    </tr>\n",
       "  </tbody>\n",
       "</table>\n",
       "<p>20907 rows × 7 columns</p>\n",
       "</div>"
      ],
      "text/plain": [
       "                                                    Link  \\\n",
       "0            https://www.youtube.com/watch?v=iXLqYNBExIQ   \n",
       "1            https://www.youtube.com/watch?v=MMsG0sJrgAo   \n",
       "2            https://www.youtube.com/watch?v=AaRnx6EbfHU   \n",
       "3            https://www.youtube.com/watch?v=L71Hq8oYcBA   \n",
       "4            https://www.youtube.com/watch?v=xctb9ur955k   \n",
       "...                                                  ...   \n",
       "20902  https://www.google.com/url?q=http://clickserve...   \n",
       "20903  https://www.google.com/url?q=https://www.deuts...   \n",
       "20904  https://www.google.com/url?q=market://details%...   \n",
       "20905  https://www.google.com/url?q=market://details%...   \n",
       "20906  https://www.google.com/url?q=market://details%...   \n",
       "\n",
       "                                                    Name  \\\n",
       "0      Die europäische Alternative zu monday, Asana &...   \n",
       "1      Deutschlands einziger Agentur-Inkubator, um de...   \n",
       "2      Vertical: Schwerelose Operationsmiskroskope - ...   \n",
       "3                       STRATO - das ist doch MEHR wert!   \n",
       "4                                  Pathfinders Lany - DE   \n",
       "...                                                  ...   \n",
       "20902  http://clickserve.dartsearch.net/link/click?li...   \n",
       "20903  https://www.deutsche-familienversicherung.de/z...   \n",
       "20904           market://details?id=com.sweetfuirt.candy   \n",
       "20905        market://details?id=com.audible.application   \n",
       "20906        market://details?id=com.joynow.strategy.ww2   \n",
       "\n",
       "                             Status       Datum            Time  \\\n",
       "0                          angeshen  09.04.2024   12:07:41 MESZ   \n",
       "1                          angeshen  09.04.2024   11:44:08 MESZ   \n",
       "2                          angeshen  09.04.2024   11:03:30 MESZ   \n",
       "3                          angeshen  09.04.2024   10:54:14 MESZ   \n",
       "4                          angeshen  09.04.2024   10:53:53 MESZ   \n",
       "...                             ...         ...             ...   \n",
       "20902  Auf Homepage weiter geleitet  23.07.2020   20:37:45 MESZ   \n",
       "20903  Auf Homepage weiter geleitet  30.05.2020   21:20:35 MESZ   \n",
       "20904  Auf Homepage weiter geleitet  25.04.2020   18:06:26 MESZ   \n",
       "20905  Auf Homepage weiter geleitet  24.04.2020   17:33:36 MESZ   \n",
       "20906  Auf Homepage weiter geleitet  15.04.2020   20:51:23 MESZ   \n",
       "\n",
       "                      Pfad           Domain  \n",
       "0      watch?v=iXLqYNBExIQ  www.youtube.com  \n",
       "1      watch?v=MMsG0sJrgAo  www.youtube.com  \n",
       "2      watch?v=AaRnx6EbfHU  www.youtube.com  \n",
       "3      watch?v=L71Hq8oYcBA  www.youtube.com  \n",
       "4      watch?v=xctb9ur955k  www.youtube.com  \n",
       "...                    ...              ...  \n",
       "20902          url?q=http:   www.google.com  \n",
       "20903         url?q=https:   www.google.com  \n",
       "20904        url?q=market:   www.google.com  \n",
       "20905        url?q=market:   www.google.com  \n",
       "20906        url?q=market:   www.google.com  \n",
       "\n",
       "[20907 rows x 7 columns]"
      ]
     },
     "execution_count": 21,
     "metadata": {},
     "output_type": "execute_result"
    }
   ],
   "source": [
    "df"
   ]
  },
  {
   "cell_type": "code",
   "execution_count": null,
   "metadata": {},
   "outputs": [],
   "source": []
  }
 ],
 "metadata": {
  "kernelspec": {
   "display_name": "Python 3",
   "language": "python",
   "name": "python3"
  },
  "language_info": {
   "codemirror_mode": {
    "name": "ipython",
    "version": 3
   },
   "file_extension": ".py",
   "mimetype": "text/x-python",
   "name": "python",
   "nbconvert_exporter": "python",
   "pygments_lexer": "ipython3",
   "version": "3.9.6"
  }
 },
 "nbformat": 4,
 "nbformat_minor": 2
}
